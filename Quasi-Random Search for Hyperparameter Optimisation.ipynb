{
 "cells": [
  {
   "cell_type": "markdown",
   "id": "a2f5913b",
   "metadata": {
    "id": "f00e7266"
   },
   "source": [
    "# Quasi-Random Search for Hyperparameter Optimisation\n",
    "\n",
    "*Alexandra Stepanenko, MSc Data Science*\n",
    "\n",
    "### Contents\n",
    "\n",
    "1. [Introduction](#introduction)    \n",
    "    1.1 [Random search](#introductionrs)  \n",
    "    1.2 [Dataset](#introductionds)  \n",
    "2. [Hyperparameter optimisation program design](#design)   \n",
    "    2.1 [Basic model structure](#designbasic)  \n",
    "    2.2 [Architecture choices for the optimisation program](#designarc)  \n",
    "3. [Running the program](#run)  \n",
    "4. [Evaluating the best performing model using test data](#test)\n",
    "5. [Conclusion and evaluation](#conclusion)\n",
    "6. [References](#references)"
   ]
  },
  {
   "cell_type": "code",
   "execution_count": 1,
   "id": "c246262a",
   "metadata": {
    "colab": {
     "base_uri": "https://localhost:8080/"
    },
    "executionInfo": {
     "elapsed": 16492,
     "status": "ok",
     "timestamp": 1643756296975,
     "user": {
      "displayName": "Alexandra Stepanenko",
      "photoUrl": "https://lh3.googleusercontent.com/a/default-user=s64",
      "userId": "09067281291667623362"
     },
     "user_tz": 0
    },
    "id": "Yc8BD3wc2Ci1",
    "outputId": "e78bb6aa-007a-4069-a7ac-d7c865847828"
   },
   "outputs": [
    {
     "name": "stdout",
     "output_type": "stream",
     "text": [
      "Collecting scipy==1.7.3\n",
      "  Downloading scipy-1.7.3-cp37-cp37m-manylinux_2_12_x86_64.manylinux2010_x86_64.whl (38.1 MB)\n",
      "\u001b[K     |████████████████████████████████| 38.1 MB 1.2 MB/s \n",
      "\u001b[?25hRequirement already satisfied: numpy<1.23.0,>=1.16.5 in /usr/local/lib/python3.7/dist-packages (from scipy==1.7.3) (1.19.5)\n",
      "Installing collected packages: scipy\n",
      "  Attempting uninstall: scipy\n",
      "    Found existing installation: scipy 1.4.1\n",
      "    Uninstalling scipy-1.4.1:\n",
      "      Successfully uninstalled scipy-1.4.1\n",
      "\u001b[31mERROR: pip's dependency resolver does not currently take into account all the packages that are installed. This behaviour is the source of the following dependency conflicts.\n",
      "albumentations 0.1.12 requires imgaug<0.2.7,>=0.2.5, but you have imgaug 0.2.9 which is incompatible.\u001b[0m\n",
      "Successfully installed scipy-1.7.3\n"
     ]
    }
   ],
   "source": [
    "# We need to update google colab's version of scipy to use the qmc (Quasi-Monte Carlo) submodule\n",
    "\n",
    "!pip3 install scipy==1.7.3"
   ]
  },
  {
   "cell_type": "code",
   "execution_count": 2,
   "id": "5bbaf3b9",
   "metadata": {
    "executionInfo": {
     "elapsed": 2779,
     "status": "ok",
     "timestamp": 1643756299747,
     "user": {
      "displayName": "Alexandra Stepanenko",
      "photoUrl": "https://lh3.googleusercontent.com/a/default-user=s64",
      "userId": "09067281291667623362"
     },
     "user_tz": 0
    },
    "id": "3da2803d"
   },
   "outputs": [],
   "source": [
    "# Import required libraries and modules\n",
    "\n",
    "import pandas as pd\n",
    "import matplotlib.pyplot as plt\n",
    "import seaborn as sns\n",
    "from tensorflow.keras.utils import to_categorical\n",
    "from tensorflow.keras import models, layers, optimizers, regularizers\n",
    "import numpy as np\n",
    "from scipy.stats.qmc import Sobol\n",
    "from scipy.stats import qmc\n",
    "import random\n",
    "import keras\n",
    "import time"
   ]
  },
  {
   "cell_type": "code",
   "execution_count": 3,
   "id": "9835938e",
   "metadata": {
    "colab": {
     "base_uri": "https://localhost:8080/"
    },
    "executionInfo": {
     "elapsed": 18289,
     "status": "ok",
     "timestamp": 1643756318031,
     "user": {
      "displayName": "Alexandra Stepanenko",
      "photoUrl": "https://lh3.googleusercontent.com/a/default-user=s64",
      "userId": "09067281291667623362"
     },
     "user_tz": 0
    },
    "id": "09d396be",
    "outputId": "90c7b447-1914-414d-e57e-311c4e82008c"
   },
   "outputs": [
    {
     "name": "stdout",
     "output_type": "stream",
     "text": [
      "Mounted at drive\n"
     ]
    }
   ],
   "source": [
    "from google.colab import drive\n",
    "drive.mount('drive')"
   ]
  },
  {
   "cell_type": "code",
   "execution_count": 4,
   "id": "64cf8cf5",
   "metadata": {
    "executionInfo": {
     "elapsed": 10,
     "status": "ok",
     "timestamp": 1643756318951,
     "user": {
      "displayName": "Alexandra Stepanenko",
      "photoUrl": "https://lh3.googleusercontent.com/a/default-user=s64",
      "userId": "09067281291667623362"
     },
     "user_tz": 0
    },
    "id": "a4342322"
   },
   "outputs": [],
   "source": [
    "# Set graphs to a seaborn style\n",
    "sns.set_style('dark')"
   ]
  },
  {
   "cell_type": "markdown",
   "id": "b5a5c665",
   "metadata": {
    "id": "ef35bed9"
   },
   "source": [
    "# 1 Introduction <a class=\"anchor\" id=\"introduction\"></a>\n",
    "\n",
    "## 1.1 Random search <a class=\"anchor\" id=\"introductionrs\"></a>\n",
    "\n",
    "In this project, I create a hyperparameter optimisation program based on the Random Search method by Bergstra and Bengio from their 2012 paper 'Random search for hyper-parameter optimization' [1].\n",
    "\n",
    "Random search has proven a simple but effective method of hyperparameter optimisation, having an advantage over grid search in that random search will trial a greater number of distinct values for each individual hyperparameter. Bergstra and Bengio argue that only some of the hyperparameters are important for each problem (although which hyperparameters this will be is not predictable), therefore it is an effective strategy to represent as many distinct values as possible for each hyperparameter in order to find values in the region of the optimum for the most important hyperparameters. \n",
    "\n",
    "In their experiements, which were based on simulations, Bergstra and Bengio found using quasirandom sequences (also known as low-discrepancy sequences) to choose 'random' hyperparameter values rather than pseudorandom numbers gave a slight improvement to hyperparameter optimisation results. In particular, Sobol sequences were highlighted as effective. Quasirandom sequences can be thought of as containing numbers which have equal distance ± a small error from one another. This means the distribution is not rigid as per a Grid Search. Simultaneously, quasirandom numbers are distributed much more evenly even across a range when compared to pseudorandom (or true random) numbers. This is advantageous as the nature of pseudorandom numbers means the distribution can risk creating blind spots of unsearched spaces. In this hyperparameter optimisation program I will use quasirandom numbers rather than pseudorandom numbers.\n",
    "\n",
    "We can create Sobol sequences using the SciPy library. Technically, the sample size of a Sobol sequence should be a power of two (i.e. $n = 2^{m}$) to ensure the full balanced properties of the sequence. However, by using a scrambled sequence, we can create a sample size of any arbitary $n$ [2]. For our purposes, it is not critical for the Sobol sequence to be perfectly balanced - sequences generated with scrambling and using any arbitary $n$ will still have low discrepancy compared to pseudorandom number generators (for example, NumPys's Random Generator). We can demonstrate this graphically.\n",
    "\n",
    "First let's have a look how the distribution of numbers look when using a pseudorandom generated set of numbers:"
   ]
  },
  {
   "cell_type": "code",
   "execution_count": 5,
   "id": "23af2216",
   "metadata": {
    "colab": {
     "base_uri": "https://localhost:8080/",
     "height": 455
    },
    "executionInfo": {
     "elapsed": 1975,
     "status": "ok",
     "timestamp": 1643756438222,
     "user": {
      "displayName": "Alexandra Stepanenko",
      "photoUrl": "https://lh3.googleusercontent.com/a/default-user=s64",
      "userId": "09067281291667623362"
     },
     "user_tz": 0
    },
    "id": "9023acd6",
    "outputId": "405d2548-3ffe-4ccc-fce5-f00f2c370bb1",
    "scrolled": false
   },
   "outputs": [
    {
     "data": {
      "image/png": "[encoded data removed]",
      "text/plain": [
       "<Figure size 432x432 with 3 Axes>"
      ]
     },
     "metadata": {},
     "output_type": "display_data"
    }
   ],
   "source": [
    "# Using NumPy to create a sequence of pseudorandom numbers\n",
    "random_generator = np.random.default_rng(seed=1)\n",
    "\n",
    "# Create 50 sets of random value pairs using NumPy, scaled to between 0 and 10 using SciPy's scale function\n",
    "rand_coords = qmc.scale(random_generator.random((2, 50)), [0 for n in range(0,50)], [10 for n in range(0,50)])\n",
    "random_sample = pd.DataFrame({'Var 1': rand_coords[0], 'Var 2': rand_coords[1]})\n",
    "\n",
    "g = sns.JointGrid(ratio = 10)\n",
    "sns.scatterplot(data = random_sample, x = 'Var 1', y = 'Var 2', ax=g.ax_joint)\n",
    "sns.scatterplot(data = random_sample, x = 'Var 1', y = 1 , ax=g.ax_marg_x)\n",
    "sns.scatterplot(data = random_sample, y = 'Var 2', x = 1 , ax=g.ax_marg_y)\n",
    "plt.show()"
   ]
  },
  {
   "cell_type": "markdown",
   "id": "f7e78b1c",
   "metadata": {
    "id": "c1d25073"
   },
   "source": [
    "We can see that there are some large gaps, and some sets of points are clustered closely together. Next let's have a look at the distribution when using quasirandom numbers:"
   ]
  },
  {
   "cell_type": "code",
   "execution_count": 6,
   "id": "fd9a2946",
   "metadata": {
    "colab": {
     "base_uri": "https://localhost:8080/",
     "height": 510
    },
    "executionInfo": {
     "elapsed": 2170,
     "status": "ok",
     "timestamp": 1643756442671,
     "user": {
      "displayName": "Alexandra Stepanenko",
      "photoUrl": "https://lh3.googleusercontent.com/a/default-user=s64",
      "userId": "09067281291667623362"
     },
     "user_tz": 0
    },
    "id": "38748d9f",
    "outputId": "d4a87277-8a16-41ae-9d4a-17b92f27bef1"
   },
   "outputs": [
    {
     "name": "stderr",
     "output_type": "stream",
     "text": [
      "/usr/local/lib/python3.7/dist-packages/scipy/stats/_qmc.py:1078: UserWarning: The balance properties of Sobol' points require n to be a power of 2.\n",
      "  warnings.warn(\"The balance properties of Sobol' points require\"\n"
     ]
    },
    {
     "data": {
      "text/plain": [
       "<matplotlib.axes._subplots.AxesSubplot at 0x7f9f41888610>"
      ]
     },
     "execution_count": 6,
     "metadata": {},
     "output_type": "execute_result"
    },
    {
     "data": {
      "image/png": "[encoded data removed]",
      "text/plain": [
       "<Figure size 432x432 with 3 Axes>"
      ]
     },
     "metadata": {},
     "output_type": "display_data"
    }
   ],
   "source": [
    "# Create Sobol sampler with dimension two (this means sequences will be created in list pairs of two)\n",
    "sampler = Sobol(d=2, scramble=True, seed=17)\n",
    "\n",
    "# Get a sequence of 50 scrambled numbers and scale them to be between 0 and 10\n",
    "sobol_seqs = qmc.scale(sampler.random(50), [0, 0], [10, 10])\n",
    "\n",
    "# Reformat into plottable coordinates\n",
    "sobol_x = []\n",
    "sobol_y = []\n",
    "\n",
    "for i in sobol_seqs:\n",
    "    sobol_x.append(i[0])\n",
    "    sobol_y.append(i[1])\n",
    "\n",
    "sobol_sample = pd.DataFrame({'Var 1': sobol_x, 'Var 2': sobol_y})\n",
    "    \n",
    "# Plot \n",
    "g = sns.JointGrid(ratio = 10)\n",
    "sns.scatterplot(data = sobol_sample, x = 'Var 1', y = 'Var 2', ax=g.ax_joint)\n",
    "sns.scatterplot(data = sobol_sample, x = 'Var 1', y = 1 , ax=g.ax_marg_x)\n",
    "sns.scatterplot(data = sobol_sample, y = 'Var 2', x = 1 , ax=g.ax_marg_y)"
   ]
  },
  {
   "cell_type": "markdown",
   "id": "3aa33921",
   "metadata": {
    "id": "94da4739"
   },
   "source": [
    "We can see the Sobol distribution has a lot less gaps, both in the 1D space of each individual variable, and in the 2D space of variable intersection.\n",
    "\n",
    "## 1.2 Dataset <a class=\"anchor\" id=\"introductionds\"></a>\n",
    "\n",
    "### 1.2.1 Fashion-MNIST\n",
    "\n",
    "The dataset I will be testing my hyperparameter optimisation program with is Fashion-MNIST. \n",
    "\n",
    "Fashion-MNIST is a multiclass single-label classification problem with balanced classes and a large enough number of samples to use hold-out validation. As we are doing multiclass single-label classification, we will use categorical crossentropy as the loss function, with a softmax last-layer activation. As the dataset is balanced, we will use accuracy as the test performance  metric. Any other datasets with the same characteristics as Fashion-MINST outlined above could also be used with this program.\n",
    "\n",
    "### 1.2.2 Preprocessing"
   ]
  },
  {
   "cell_type": "code",
   "execution_count": 16,
   "id": "633eb0ba",
   "metadata": {
    "colab": {
     "base_uri": "https://localhost:8080/"
    },
    "executionInfo": {
     "elapsed": 1808,
     "status": "ok",
     "timestamp": 1643756542069,
     "user": {
      "displayName": "Alexandra Stepanenko",
      "photoUrl": "https://lh3.googleusercontent.com/a/default-user=s64",
      "userId": "09067281291667623362"
     },
     "user_tz": 0
    },
    "id": "7a546f98",
    "outputId": "4679f74b-e4fc-4289-9702-eb1719883fe1"
   },
   "outputs": [
    {
     "name": "stdout",
     "output_type": "stream",
     "text": [
      "Downloading data from https://storage.googleapis.com/tensorflow/tf-keras-datasets/train-labels-idx1-ubyte.gz\n",
      "32768/29515 [=================================] - 0s 0us/step\n",
      "40960/29515 [=========================================] - 0s 0us/step\n",
      "Downloading data from https://storage.googleapis.com/tensorflow/tf-keras-datasets/train-images-idx3-ubyte.gz\n",
      "26427392/26421880 [==============================] - 0s 0us/step\n",
      "26435584/26421880 [==============================] - 0s 0us/step\n",
      "Downloading data from https://storage.googleapis.com/tensorflow/tf-keras-datasets/t10k-labels-idx1-ubyte.gz\n",
      "16384/5148 [===============================================================================================] - 0s 0us/step\n",
      "Downloading data from https://storage.googleapis.com/tensorflow/tf-keras-datasets/t10k-images-idx3-ubyte.gz\n",
      "4423680/4422102 [==============================] - 0s 0us/step\n",
      "4431872/4422102 [==============================] - 0s 0us/step\n"
     ]
    }
   ],
   "source": [
    "# Import fashion-minst from the tensorflow bank of datasets\n",
    "from tensorflow.keras.datasets import fashion_mnist\n",
    "(train_images, train_labels), (test_images, test_labels) = fashion_mnist.load_data()"
   ]
  },
  {
   "cell_type": "code",
   "execution_count": 17,
   "id": "22c8b7a0",
   "metadata": {
    "executionInfo": {
     "elapsed": 502,
     "status": "ok",
     "timestamp": 1643756546353,
     "user": {
      "displayName": "Alexandra Stepanenko",
      "photoUrl": "https://lh3.googleusercontent.com/a/default-user=s64",
      "userId": "09067281291667623362"
     },
     "user_tz": 0
    },
    "id": "30640522"
   },
   "outputs": [],
   "source": [
    "# Preprocessing the images into vectors, and converting values to a float between 0 and 1\n",
    "train_images = train_images.reshape((60000, 28 * 28))\n",
    "train_images = train_images.astype('float32') / 255\n",
    "test_images = test_images.reshape((10000, 28 * 28))\n",
    "test_images = test_images.astype('float32') / 255"
   ]
  },
  {
   "cell_type": "code",
   "execution_count": 18,
   "id": "8dc179d4",
   "metadata": {
    "executionInfo": {
     "elapsed": 305,
     "status": "ok",
     "timestamp": 1643756550766,
     "user": {
      "displayName": "Alexandra Stepanenko",
      "photoUrl": "https://lh3.googleusercontent.com/a/default-user=s64",
      "userId": "09067281291667623362"
     },
     "user_tz": 0
    },
    "id": "bce0d52e"
   },
   "outputs": [],
   "source": [
    "# One-hot encode the labels\n",
    "train_labels = to_categorical(train_labels)\n",
    "test_labels = to_categorical(test_labels)"
   ]
  },
  {
   "cell_type": "code",
   "execution_count": 19,
   "id": "96aec407",
   "metadata": {
    "executionInfo": {
     "elapsed": 235,
     "status": "ok",
     "timestamp": 1643756554790,
     "user": {
      "displayName": "Alexandra Stepanenko",
      "photoUrl": "https://lh3.googleusercontent.com/a/default-user=s64",
      "userId": "09067281291667623362"
     },
     "user_tz": 0
    },
    "id": "37d295d6"
   },
   "outputs": [],
   "source": [
    "# Creating training and validation datasets\n",
    "x_valid = train_images[:10000]\n",
    "x_train = train_images[10000:]\n",
    "y_valid = train_labels[:10000]\n",
    "y_train = train_labels[10000:]"
   ]
  },
  {
   "cell_type": "markdown",
   "id": "e09f8cc2",
   "metadata": {},
   "source": [
    "# 2 Hyperparameter optimisation program design <a class=\"anchor\" id=\"design\"></a>\n",
    "\n",
    "## 2.1 Basic model structure <a class=\"anchor\" id=\"designbasic\"></a>\n",
    "\n",
    "The model created will be a sequential model with up to five hidden dense layers (and up to five drop out layers).\n",
    "\n",
    "The following will be optimised:\n",
    "\n",
    "* Number of hidden layers (up to 5)\n",
    "* Number of neurons in hidden layers\n",
    "* Activation functions\n",
    "* Learning rate\n",
    "* Optimizer momentum \n",
    "* Batch size \n",
    "* Dropout layer dropout rate\n",
    "\n",
    "The first thing we need to build our optimisation program is a function which can take the hyperparameters of a model, build and run the model, and return the history dictionary. I define such a function below. This function has a parameter `model_type`: when this is defined as 'Trials', the model will be fitted with partial training data, and validated on hold out data from the training set, with the history dictionary being returned. When `model_type` is 'Test', the model fits the full training data, evaluates on the test data and prints the test loss and accuracy.\n",
    "\n",
    "The parameters we pass to this model are:\n",
    "\n",
    "* `L1N` to `L5N` - Size of dense layers 1 to 5 - integer\n",
    "* `L3` to `L5` - True/False whether to add the 3rd, 4th or 5th dense layer - boolean\n",
    "* `D1` to `D5` - True/False whether to add dropout layers after each dense layer - boolean\n",
    "* `D1R` to `D5R` - Dropout rate for each dropout layer - float\n",
    "* `AVN` - Activation funtion\n",
    "* `OLR` - Learning rate\n",
    "* `OM` - Momentum\n",
    "* `BS` - Batch size\n",
    "* `model_type` (explained above)\n",
    "* `x_train`, `y_train`, `x_valid`, `y_valid` - training data to be used during trials\n",
    "* `train_images`, `train_labels`, `test_images`, `test_labels`, `test_epochs` - train and test data to be used during evaluation; number of epochs to use during test fitting\n",
    "\n",
    "Note: When running model trials, I set verbose to 0 during fit, instead implementing a printed message stating which model number was being trialled to avoid excessive message printing."
   ]
  },
  {
   "cell_type": "code",
   "execution_count": 27,
   "id": "09563322",
   "metadata": {
    "executionInfo": {
     "elapsed": 323,
     "status": "ok",
     "timestamp": 1643756820281,
     "user": {
      "displayName": "Alexandra Stepanenko",
      "photoUrl": "https://lh3.googleusercontent.com/a/default-user=s64",
      "userId": "09067281291667623362"
     },
     "user_tz": 0
    },
    "id": "a7b16db1"
   },
   "outputs": [],
   "source": [
    "def modelBuilder(L1N, D1, D1R, L2N, D2, D2R, L3, L3N, D3, D3R, L4, L4N, D4, D4R, L5, L5N, D5, D5R, OLR, OM, AVN, BS,\n",
    "                 model_type, x_train=None, y_train=None, x_valid=None, y_valid=None,\n",
    "                 train_images=None, train_labels=None, test_images=None, test_labels=None, test_epochs=0):\n",
    "    \n",
    "    model = models.Sequential()\n",
    "    \n",
    "    # First dense layer\n",
    "    model.add(layers.Dense(L1N, activation=AVN, input_shape=(28 * 28, )))\n",
    "        \n",
    "    \n",
    "    # First dropout layer\n",
    "    if D1==True:\n",
    "        model.add(layers.Dropout(D1R))\n",
    "        \n",
    "        \n",
    "    # Second dense layer\n",
    "    model.add(layers.Dense(L2N, activation=AVN)) \n",
    "        \n",
    "        \n",
    "    # Second dropout layer\n",
    "    if D2==True:\n",
    "        model.add(layers.Dropout(D2R))\n",
    "    \n",
    "    \n",
    "    # Third dense layer\n",
    "    if L3==True:\n",
    "        model.add(layers.Dense(L3N, activation=AVN)) \n",
    "    \n",
    "        \n",
    "    # Third dropout layer\n",
    "    if D3==True:\n",
    "        model.add(layers.Dropout(D3R))\n",
    "    \n",
    "    \n",
    "    # Fourth dense layer\n",
    "    if L4==True:\n",
    "        model.add(layers.Dense(L4N, activation=AVN)) \n",
    "    \n",
    "        \n",
    "    # Fourth dropout layer\n",
    "    if D4==True:\n",
    "        model.add(layers.Dropout(D4R))\n",
    "    \n",
    "    \n",
    "    # Fifth dense layer\n",
    "    if L5==True:\n",
    "        model.add(layers.Dense(L5N, activation=AVN)) \n",
    "    \n",
    "        \n",
    "    # Fifth dropout layer\n",
    "    if D5==True:\n",
    "        model.add(layers.Dropout(D5R))\n",
    "    \n",
    "    \n",
    "    # Output layer\n",
    "    model.add(layers.Dense(10, activation='softmax'))\n",
    "    \n",
    "    \n",
    "    # Compile and fit model\n",
    "    model.compile(optimizer=optimizers.RMSprop(learning_rate=OLR, momentum=OM),\n",
    "                  loss='categorical_crossentropy', \n",
    "                  metrics=['accuracy'])\n",
    "    \n",
    "    # For trials, fit with split train and validation data, return history document\n",
    "    # Use early stopping callback\n",
    "    \n",
    "    if model_type=='Trials':\n",
    "    \n",
    "        history = model.fit(x_train, y_train, \n",
    "                            epochs=100, batch_size=BS, \n",
    "                            callbacks=[keras.callbacks.EarlyStopping(monitor='val_loss', patience=5)],\n",
    "                            validation_data = (x_valid, y_valid), verbose=0)\n",
    "\n",
    "        history_dict = history.history\n",
    "\n",
    "        return history_dict\n",
    "    \n",
    "    # When testing, fit with full training data and evaluate using test data - print test loss and accuracy\n",
    "    \n",
    "    if model_type=='Test':\n",
    "        model.fit(train_images, train_labels, epochs=test_epochs, batch_size=BS)\n",
    "        test_loss, test_accuracy = model.evaluate(test_images, test_labels)\n",
    "\n",
    "        print('The test loss was:', test_loss, '\\nThe test accuracy was:', test_accuracy)"
   ]
  },
  {
   "cell_type": "markdown",
   "id": "9f9d11e6",
   "metadata": {},
   "source": [
    "## 2.2 Architecture choices for the optimisation program <a class=\"anchor\" id=\"designarc\"></a>\n",
    "\n",
    "### 2.2.1 An overview of how the main function will work\n",
    "\n",
    "The main function will take as input: \n",
    "\n",
    "* The number of models to trial\n",
    "* A dictionary of hyperparameter numerical ranges (for layer size, dropout rate, learning rate, momentum and batch size) or list of options (for activation functions) \n",
    "* The training and validation data to be used\n",
    "\n",
    "The function will assign hyperparameter values to each model based on rules which will be described shortly. All model information and variables are stored in a dataframe. Each model is fitted in turn, and the minimum validation loss and the epoch in which this was achieved, plus the maximum validation accuracy and the epoch in which this was achieved are appended to the dataframe.\n",
    "\n",
    "The function will return:\n",
    "* A dataframe of all the models trialed with full information and variables\n",
    "* A dataframe containing only the model which achieved the lowest validation loss\n",
    "\n",
    "\n",
    "### 2.2.2 Forced diversification\n",
    "\n",
    "One of the elements which occured to me as potentially problematic in a random search approach was the fact that some architectures or hyperparameter combinations are relatively unlikely to occur within a random structure, even if they may be a combination which would work very well. For example, in a random search method where the layer sizes are chosen independently of one another, we are only rarely going to see larger networks with layers of ascending or descending sizes for the same reason we don't often see a coin land on heads five times in a row, and we are unlikely to see uniformly sized layers. \n",
    "\n",
    "Neural networks are black box systems and most of the time we can only employ heuristics to guess at what the network may be doing. However, there are some heuristics which may cause us to consider that perhaps networks with explicitly ascending or descending layer sizes may perform better. Additonally, for larger networks, if the size of each layer is always chosen independently of the rest, then on average, the total number of neurons in the networks may tend to approximately the midpoint of the range defined for layer sizes. This may not be optimum network size. \n",
    "\n",
    "To address this, I have implemented in my optimisation function a regime which I call 'forced diversification', where a proportion of the models are built with explicit layer structures - uniform, ascending, descending - and the rest are left so each layer size is defined independently of the rest ('random'). \n",
    "\n",
    "For ascending and descending networks, I have further divided these into two subtypes. The 'seed' value for these structures - the starting point from which all the layer sizes are calculated - is a quasirandom number. If we decide, for example, this seed value is always the size of the first layer, we would always get relatively large ascending networks and relatively small descending networks, which may not be optimal. Instead, for both types of structure, 50% of the time the seed value will be the smallest layer size in the network, and 50% of the time it will be the largest. This will allow for greater diversity in network size.\n",
    "\n",
    "* Ascending min - quasirandom number is smallest value in an ascending network\n",
    "* Ascending max - quasirandom number is largest value in an ascending network\n",
    "* Descending min - quasirandom number is smallest value in an descending network\n",
    "* Descending max - quasirandom number is largest value in an descending network\n",
    "\n",
    "For the total number of models trialed, approximately:\n",
    "\n",
    "* One fifth will have uniform structure\n",
    "* One fifth will have ascending structure\n",
    "* One fifth will have descending structure\n",
    "* Two fifths will have a 'random' structure\n",
    "\n",
    "'Forced diversification' is also implemented in dropout layers and momentum. After each dense layer, there is a 50% chance of a dropout layer. For larger networks, this means the chance of having networks without dropout layers is small. As such, one quarter of the networks have a stipulation of no dropout layers at all. Equally, one quarter of models have no optimiser momentum, while the rest have a momentum value from within the range defined by the user when calling the function.\n",
    "\n",
    "It is important to note that some of the the decisions made above - what proportion of models should be which structure, what proportion have no momentum, etc - are arbitrary beyond the application of common sense. If one were a neural network expert building a optimisation program for general use, one may research which choices may yield the best results in the majority of applications.\n",
    "\n",
    "### 2.2.3 Categorical hyperparameters\n",
    "\n",
    "So far we have established that we will use a random search style approach, using quasirandom values instead of pseudorandom values where appropriate. However some variables we need to define are categorical, such as activation functions. We also need to consider if pseudorandomness is the best option here.\n",
    "\n",
    "We will treat the number of layers as a categorical variable when defining number of layers for each model, so using this as an example we can examine what may happen if we use pseudorandom number generation to define number of layers:"
   ]
  },
  {
   "cell_type": "code",
   "execution_count": 11,
   "id": "db569100",
   "metadata": {
    "colab": {
     "base_uri": "https://localhost:8080/",
     "height": 283
    },
    "executionInfo": {
     "elapsed": 330,
     "status": "ok",
     "timestamp": 1643756470714,
     "user": {
      "displayName": "Alexandra Stepanenko",
      "photoUrl": "https://lh3.googleusercontent.com/a/default-user=s64",
      "userId": "09067281291667623362"
     },
     "user_tz": 0
    },
    "id": "8e841c56",
    "outputId": "756a0873-2c83-4782-cda1-f8355e3e0850"
   },
   "outputs": [
    {
     "name": "stdout",
     "output_type": "stream",
     "text": [
      "First 10 randomly generated numbers: [3, 3, 4, 2, 4, 5, 5, 1, 5, 4]\n"
     ]
    },
    {
     "data": {
      "image/png": "[encoded data removed]",
      "text/plain": [
       "<Figure size 432x288 with 1 Axes>"
      ]
     },
     "metadata": {},
     "output_type": "display_data"
    }
   ],
   "source": [
    "int_set = random_generator.integers(1, 6, 50).tolist()\n",
    "\n",
    "print('First 10 randomly generated numbers:', int_set[:10])\n",
    "\n",
    "count_lst = [int_set.count(x) for x in [1,2,3,4,5]]\n",
    "\n",
    "sns.barplot(x = [1,2,3,4,5], y=count_lst)\n",
    "plt.show()"
   ]
  },
  {
   "cell_type": "markdown",
   "id": "21fe9bed",
   "metadata": {
    "id": "c6a01679"
   },
   "source": [
    "As we can see, using a random number generator means some network architectures may end up being significantly more represented than others. To solve this problem, we can create a function which, given a list of items, returns a list of length $n$ with as uniform a distribution of items as possible."
   ]
  },
  {
   "cell_type": "code",
   "execution_count": 12,
   "id": "2155b740",
   "metadata": {
    "executionInfo": {
     "elapsed": 300,
     "status": "ok",
     "timestamp": 1643756476766,
     "user": {
      "displayName": "Alexandra Stepanenko",
      "photoUrl": "https://lh3.googleusercontent.com/a/default-user=s64",
      "userId": "09067281291667623362"
     },
     "user_tz": 0
    },
    "id": "7298bd94"
   },
   "outputs": [],
   "source": [
    "def getUniformList(items_lst, n):\n",
    "    # items_lst is items to include in list, for example [1, 2, 3, 4, 5] or ['relu', 'tanh']\n",
    "    # n is length of final list\n",
    "    \n",
    "    ret_lst = []\n",
    "    \n",
    "    # Add equal number of all the items\n",
    "    for i in range(0, n//len(items_lst)):\n",
    "        for item in items_lst:\n",
    "            ret_lst.append(item)\n",
    "            \n",
    "    # If n cannot be divided perfectly by the number of items, use random number generator to add final items to \n",
    "    # list to make up the list size to n\n",
    "    if (n%len(items_lst)) != 0:\n",
    "        for i in range(0, n%len(items_lst)):\n",
    "            ret_lst.append(items_lst[random_generator.integers(0, len(items_lst), 1)[0]])\n",
    "    \n",
    "    # Finally we need to shuffle our list\n",
    "    random.shuffle(ret_lst)\n",
    "    \n",
    "    return ret_lst"
   ]
  },
  {
   "cell_type": "code",
   "execution_count": 13,
   "id": "6f87632e",
   "metadata": {
    "colab": {
     "base_uri": "https://localhost:8080/",
     "height": 283
    },
    "executionInfo": {
     "elapsed": 411,
     "status": "ok",
     "timestamp": 1643756479630,
     "user": {
      "displayName": "Alexandra Stepanenko",
      "photoUrl": "https://lh3.googleusercontent.com/a/default-user=s64",
      "userId": "09067281291667623362"
     },
     "user_tz": 0
    },
    "id": "f35c6662",
    "outputId": "371593b2-f9fb-48f4-a39b-606bb3cf74c2"
   },
   "outputs": [
    {
     "name": "stdout",
     "output_type": "stream",
     "text": [
      "First 10 randomly generated numbers: [4, 3, 3, 1, 2, 5, 4, 3, 1, 5]\n"
     ]
    },
    {
     "data": {
      "image/png": "[encoded data removed]",
      "text/plain": [
       "<Figure size 432x288 with 1 Axes>"
      ]
     },
     "metadata": {},
     "output_type": "display_data"
    }
   ],
   "source": [
    "layers_lst = getUniformList([1, 2, 3, 4, 5], 52)\n",
    "\n",
    "print('First 10 randomly generated numbers:', layers_lst[:10])\n",
    "\n",
    "count_lst = [layers_lst.count(x) for x in [1,2,3,4,5]]\n",
    "\n",
    "sns.barplot(x = [1,2,3,4,5], y=count_lst)\n",
    "plt.show()"
   ]
  },
  {
   "cell_type": "markdown",
   "id": "abb92af4",
   "metadata": {},
   "source": [
    "We can use this function to ensure categorical hyperparameters have an equal split of hyperparameter options across our trials.\n",
    "\n",
    "### 2.2.4 Structure of hyperparameter selection\n",
    "\n",
    "Hyperparameter variables are defined as such:\n",
    "\n",
    "* First we define the variables which every model in the trial requires, and which can be defined in a single way for all the models: layer structure, number of hidden layers, activation function, batch size, learning rate, whether dropout layers are allowed, and whether the optimiser will have momentum.\n",
    "* We create a dataframe with a row for each model, which holds the values we have defined above. Variables which we have not yet defined have a default variable such as 0.\n",
    "* The remaining variables are defined using dataframe indicies of model subsets. For example, we retrieve all indicies for models which have a third dense layer. 50% of these models will be defined as having a dropout layer after the third dense layer, while 50% will not have a dropout layer after the third dense layer. Working this way - defining variables with consideration to other variables - means we can retain a more balanced distribution of values. \n",
    "* Ascending and descending layer size network structures have a definition such that, if an ascending network has 5 layers, layer five has five times as many neurons as layer one, layer four has four times as many neurons as layer one, etc. Some practitioners may use powers of two to define ascending/descending layers (e.g. layer sizes 8, 16, 32 etc), however with some of the seed values already being quite large, I felt this would create networks which were much too large (or small) at times. Therefore I chose to scale by simple integer multiplication or division.\n",
    "\n",
    "The main search function:"
   ]
  },
  {
   "cell_type": "code",
   "execution_count": 15,
   "id": "470a0f2c",
   "metadata": {
    "executionInfo": {
     "elapsed": 1334,
     "status": "ok",
     "timestamp": 1643756534738,
     "user": {
      "displayName": "Alexandra Stepanenko",
      "photoUrl": "https://lh3.googleusercontent.com/a/default-user=s64",
      "userId": "09067281291667623362"
     },
     "user_tz": 0
    },
    "id": "80049442"
   },
   "outputs": [],
   "source": [
    "# Quasi-random search\n",
    "\n",
    "def QRSearch(n_trials, hp_ranges, x_train, y_train, x_valid, y_valid):\n",
    "    \n",
    "    # We will first get a list of n (where n = number of trials) values for each hyperparameter \n",
    "\n",
    "    # Categorical-type hyperparameters\n",
    "    \n",
    "    # Layer structure\n",
    "    layer_structure = getUniformList(['Uniform', 'Uniform', 'Ascending min', 'Ascending max', 'Descending min', \n",
    "                                      'Descending max', 'Random', 'Random', 'Random', 'Random'], n_trials)\n",
    "\n",
    "    # Number of hidden layers\n",
    "    hidden_layers = getUniformList([2, 3, 4, 5], n_trials)\n",
    "    \n",
    "    # Create true/false variable for layers 3-5 based on number of layers\n",
    "    L3 = []\n",
    "    L4 = []\n",
    "    L5 = []\n",
    "    \n",
    "    for l in hidden_layers:\n",
    "        L3v = True\n",
    "        L4v = True\n",
    "        L5v = True\n",
    "        \n",
    "        if l < 5:\n",
    "            L5v = False\n",
    "        if l < 4:\n",
    "            L4v = False\n",
    "        if l < 3:\n",
    "            L3v = False\n",
    "            \n",
    "        L3.append(L3v)\n",
    "        L4.append(L4v)\n",
    "        L5.append(L5v)\n",
    "    \n",
    "\n",
    "    # Activation functions\n",
    "    activations = getUniformList(hp_ranges.get('Activations'), n_trials)\n",
    "\n",
    "    # Allow drop out layers?\n",
    "    allow_do = getUniformList([False, True, True, True], n_trials)\n",
    "\n",
    "    # Allow momentum?\n",
    "    allow_mom = getUniformList([False, True, True, True], n_trials)\n",
    "    \n",
    "    \n",
    "    # Make a sampler of dimension 1 for Sobol values\n",
    "    sampler_1 = Sobol(d=1, scramble=True)\n",
    "    \n",
    "    \n",
    "    # Get learning rate and momentum values\n",
    "    lr_Sobol = qmc.scale(sampler_1.random(n_trials), hp_ranges.get('Learning rate')[0], \n",
    "                         hp_ranges.get('Learning rate')[1])\n",
    "    bs_Sobol = qmc.scale(sampler_1.random(n_trials), hp_ranges.get('Batch size')[0], \n",
    "                         hp_ranges.get('Batch size')[1])\n",
    "    \n",
    "    # Lists to hold values for each model\n",
    "    LR = []\n",
    "    BS = []\n",
    "\n",
    "    # Sobol sequences are arrays within which each value is in a list, so we need to convert this to a single list\n",
    "    for i in lr_Sobol:\n",
    "        LR.append(i[0])\n",
    "        \n",
    "    for i in bs_Sobol:\n",
    "        # Batch size must be an integer\n",
    "        BS.append(int(round(i[0], 0)))\n",
    "    \n",
    "    # Put values in a dataframe so we can iterate through the dataframe to define the remaining values\n",
    "    # We set defaults at this stage for values we have not defined\n",
    "    trials = pd.DataFrame({'Structure': layer_structure, 'Number of hidden layers': hidden_layers, \n",
    "                           'Activation': activations, 'Allow dropout layers?': allow_do, \n",
    "                           'Allow momentum?': allow_mom, 'L3': L3, 'L4': L4, 'L5': L5, \n",
    "                           'D1': False, 'D2': False, 'D3': False, 'D4': False, 'D5': False, \n",
    "                           'L1N': 0, 'L2N': 0, 'L3N': 0, 'L4N': 0, 'L5N': 0, \n",
    "                           'D1R': 0, 'D2R': 0, 'D3R': 0, 'D4R': 0, 'D5R': 0, \n",
    "                           'Learning rate': LR, 'Momentum': 0.0, 'Batch size': BS})\n",
    "    \n",
    "    \n",
    "    # Momenum values\n",
    "    # We only want to set a non-zero momentum value where allow momentum = TRUE\n",
    "    trials_am = trials[trials['Allow momentum?']==True]\n",
    "    mom_Sobol = qmc.scale(sampler_1.random(len(trials_am)), hp_ranges.get('Momentum')[0], hp_ranges.get('Momentum')[1])\n",
    "    count = 0\n",
    "    for i in trials_am.index:\n",
    "        trials.loc[i, 'Momentum'] = mom_Sobol[count][0]\n",
    "        count += 1\n",
    "    \n",
    "    \n",
    "    # Whether to add a dropout layer after a dense layer\n",
    "    \n",
    "    # Get subsets where layer size = 3, 4, 5\n",
    "    trials_L3 = trials[trials['L3']==True]\n",
    "    trials_L4 = trials[trials['L4']==True]\n",
    "    trials_L5 = trials[trials['L5']==True]\n",
    "    \n",
    "    # Individual dropout layers - True/False distribution\n",
    "    DO1 = getUniformList([False, True], n_trials)\n",
    "    DO2 = getUniformList([False, True], n_trials)\n",
    "    DO3 = getUniformList([False, True], len(trials_L3))\n",
    "    DO4 = getUniformList([False, True], len(trials_L4))\n",
    "    DO5 = getUniformList([False, True], len(trials_L5))\n",
    "    \n",
    "    for i in trials.index:\n",
    "        trials.loc[i, 'D1'] = DO1[i]\n",
    "        trials.loc[i, 'D2'] = DO2[i]\n",
    "    \n",
    "    # For the remaining layers need to set a count to iterate through the list \n",
    "    count = 0\n",
    "    for i in trials_L3.index:\n",
    "        trials.loc[i, 'D3'] = DO3[count]\n",
    "        count += 1\n",
    "    \n",
    "    count = 0\n",
    "    for i in trials_L4.index:\n",
    "        trials.loc[i, 'D4'] = DO4[count]\n",
    "        count += 1\n",
    "        \n",
    "    count = 0\n",
    "    for i in trials_L5.index:\n",
    "        trials.loc[i, 'D5'] = DO5[count]\n",
    "        count += 1\n",
    "    \n",
    "    \n",
    "    # Dropout layer rate\n",
    "    trials_D1 = trials[trials['D1']==True]\n",
    "    trials_D2 = trials[trials['D2']==True]\n",
    "    trials_D3 = trials[trials['D3']==True]\n",
    "    trials_D4 = trials[trials['D4']==True]\n",
    "    trials_D5 = trials[trials['D5']==True]\n",
    "    \n",
    "    # Define dropout rate range\n",
    "    do_lower = hp_ranges.get('Dropout rate')[0]\n",
    "    do_upper = hp_ranges.get('Dropout rate')[1]\n",
    "    \n",
    "    # Get values\n",
    "    DO1R = qmc.scale(sampler_1.random(len(trials_D1)), do_lower, do_upper)\n",
    "    DO2R = qmc.scale(sampler_1.random(len(trials_D2)), do_lower, do_upper)\n",
    "    DO3R = qmc.scale(sampler_1.random(len(trials_D3)), do_lower, do_upper)\n",
    "    DO4R = qmc.scale(sampler_1.random(len(trials_D4)), do_lower, do_upper)\n",
    "    DO5R = qmc.scale(sampler_1.random(len(trials_D5)), do_lower, do_upper)\n",
    "    \n",
    "    # Append values to dataframe\n",
    "    count = 0\n",
    "    for i in trials_D1.index:\n",
    "        trials.loc[i, 'D1R'] = DO1R[count]\n",
    "        count += 1\n",
    "    \n",
    "    count = 0\n",
    "    for i in trials_D2.index:\n",
    "        trials.loc[i, 'D2R'] = DO2R[count]\n",
    "        count += 1\n",
    "    \n",
    "    count = 0\n",
    "    for i in trials_D3.index:\n",
    "        trials.loc[i, 'D3R'] = DO3R[count]\n",
    "        count += 1\n",
    "    \n",
    "    count = 0\n",
    "    for i in trials_D4.index:\n",
    "        trials.loc[i, 'D4R'] = DO4R[count]\n",
    "        count += 1\n",
    "        \n",
    "    count = 0\n",
    "    for i in trials_D5.index:\n",
    "        trials.loc[i, 'D5R'] = DO5R[count]\n",
    "        count += 1\n",
    "\n",
    "    \n",
    "    # Get later sizes based on layer structure\n",
    "    # We want to make sure each set of models with a particular structure have a Sobol distribution\n",
    "\n",
    "    # Define layer size range\n",
    "    ls_lower = hp_ranges.get('Layer sizes')[0]\n",
    "    ls_upper = hp_ranges.get('Layer sizes')[1]\n",
    "    \n",
    "    # Uniform\n",
    "    trials_uniform = trials[trials['Structure']=='Uniform']\n",
    "    uniform_Sobol = qmc.scale(sampler_1.random(len(trials_uniform)), ls_lower, ls_upper)\n",
    "    count = 0\n",
    "    for i in trials_uniform.index:\n",
    "        for layer in ['L1N', 'L2N', 'L3N', 'L4N', 'L5N']:\n",
    "            trials.loc[i, layer] = int(round(uniform_Sobol[count][0], 0))\n",
    "        count += 1\n",
    "    \n",
    "    # Ascending min - quasirandom number is the smallest value in an ascending network\n",
    "    trials_ascmin = trials[trials['Structure']=='Ascending min']\n",
    "    ascmin_Sobol = qmc.scale(sampler_1.random(len(trials_ascmin)), ls_lower, ls_upper)\n",
    "    count = 0\n",
    "    for i in trials_ascmin.index:\n",
    "        layer_count = 1\n",
    "        for layer in ['L1N', 'L2N', 'L3N', 'L4N', 'L5N']:\n",
    "            trials.loc[i, layer] = int(round(ascmin_Sobol[count][0], 0)) * layer_count\n",
    "            layer_count += 1\n",
    "        count += 1\n",
    "        \n",
    "    # Descending max - quasirandom number is the largest value in an descending network\n",
    "    trials_desmax = trials[trials['Structure']=='Descending max']\n",
    "    desmax_Sobol = qmc.scale(sampler_1.random(len(trials_desmax)), ls_lower, ls_upper)\n",
    "    count = 0\n",
    "    for i in trials_desmax.index:\n",
    "        layer_count = 1\n",
    "        for layer in ['L1N', 'L2N', 'L3N', 'L4N', 'L5N']:\n",
    "            trials.loc[i, layer] = int(round(desmax_Sobol[count][0] / layer_count, 0))\n",
    "            layer_count += 1\n",
    "        count += 1\n",
    "        \n",
    "    # For 'Ascending max' and 'Descending min' we have to consider number of layers \n",
    "    \n",
    "    # Ascending max - quasirandom number is the largest value in an ascending network\n",
    "    trials_ascmax = trials[trials['Structure']=='Ascending max']\n",
    "    ascmax_Sobol = qmc.scale(sampler_1.random(len(trials_ascmax)), ls_lower, ls_upper)\n",
    "    count = 0\n",
    "    for i in trials_ascmax.index:\n",
    "        num_layers = trials_ascmax['Number of hidden layers'][i]\n",
    "        seed_value = int(round(ascmax_Sobol[count][0], 0))\n",
    "        if num_layers == 5:\n",
    "            layer_list = ['L5N', 'L4N', 'L3N', 'L2N', 'L1N']\n",
    "        elif num_layers == 4:\n",
    "            layer_list = ['L4N', 'L3N', 'L2N', 'L1N']\n",
    "        elif num_layers == 3:\n",
    "            layer_list = ['L3N', 'L2N', 'L1N']\n",
    "        else:\n",
    "            layer_list = ['L2N', 'L1N']\n",
    "        \n",
    "        layer_count = 1\n",
    "        for layer in layer_list:\n",
    "            trials.loc[i, layer] = int(round(ascmax_Sobol[count][0] / layer_count, 0))\n",
    "            layer_count += 1\n",
    "        \n",
    "        count += 1\n",
    "        \n",
    "    # Descending min - quasirandom number is the smallest value in an descending network\n",
    "    trials_desmin = trials[trials['Structure']=='Descending min']\n",
    "    desmin_Sobol = qmc.scale(sampler_1.random(len(trials_desmin)), ls_lower, ls_upper)\n",
    "    count = 0\n",
    "    for i in trials_desmin.index:\n",
    "        num_layers = trials_desmin['Number of hidden layers'][i]\n",
    "        seed_value = int(round(desmin_Sobol[count][0], 0))\n",
    "        if num_layers == 5:\n",
    "            layer_list = ['L5N', 'L4N', 'L3N', 'L2N', 'L1N']\n",
    "        elif num_layers == 4:\n",
    "            layer_list = ['L4N', 'L3N', 'L2N', 'L1N']\n",
    "        elif num_layers == 3:\n",
    "            layer_list = ['L3N', 'L2N', 'L1N']\n",
    "        else:\n",
    "            layer_list = ['L2N', 'L1N']\n",
    "        \n",
    "        layer_count = 1\n",
    "        for layer in layer_list:\n",
    "            trials.loc[i, layer] = int(round(desmin_Sobol[count][0], 0)) * layer_count\n",
    "            layer_count += 1\n",
    "        \n",
    "        count += 1\n",
    "        \n",
    "    # Random structure \n",
    "    sampler_5 = Sobol(d=5, scramble=True)\n",
    "    trials_random = trials[trials['Structure']=='Random']\n",
    "    random_Sobol = qmc.scale(sampler_5.random(len(trials_random)), [ls_lower for x in range(0,5)], [ls_upper for x in range(0,5)])\n",
    "    count = 0\n",
    "    for i in trials_random.index:\n",
    "        layer_count = 0\n",
    "        for layer in ['L1N', 'L2N', 'L3N', 'L4N', 'L5N']:\n",
    "            trials.loc[i, layer] = int(round(random_Sobol[count][layer_count], 0))\n",
    "            layer_count += 1\n",
    "        count += 1\n",
    "    \n",
    "    # Run each model and save min loss + max accuracy\n",
    "    for i in trials.index:\n",
    "        print(\"Trialling model\", i+1, \"of\", len(trials))\n",
    "\n",
    "        # Create and fit model, get loss and accuracy\n",
    "        hist_dict = modelBuilder(L1N=trials['L1N'][i], \n",
    "                                 D1=trials['D1'][i], D1R=trials['D1R'][i],\n",
    "                                 L2N=trials['L2N'][i], \n",
    "                                 D2=trials['D2'][i], D2R=trials['D2R'][i],\n",
    "                                 L3=trials['L3'][i], L3N=trials['L3N'][i], \n",
    "                                 D3=trials['D3'][i], D3R=trials['D3R'][i],\n",
    "                                 L4=trials['L4'][i], L4N=trials['L4N'][i], \n",
    "                                 D4=trials['D4'][i], D4R=trials['D4R'][i],\n",
    "                                 L5=trials['L5'][i], L5N=trials['L5N'][i], \n",
    "                                 D5=trials['D5'][i], D5R=trials['D5R'][i],\n",
    "                                 OLR=trials['Learning rate'][i], OM=trials['Momentum'][i], \n",
    "                                 AVN=trials['Activation'][i], BS=trials['Batch size'][i],\n",
    "                                 x_train=x_train, y_train=y_train, x_valid=x_valid, y_valid=y_valid,\n",
    "                                 model_type='Trials')\n",
    "\n",
    "        valid_loss = pd.DataFrame({'Epoch': range(1, len(hist_dict['val_loss'])+1), 'Loss': hist_dict['val_loss']})\n",
    "        valid_acc = pd.DataFrame({'Epoch': range(1, len(hist_dict['val_accuracy'])+1), 'Accuracy': hist_dict['val_accuracy']})\n",
    "        \n",
    "        trials.loc[i, 'Min val loss'] = valid_loss.sort_values(by=['Loss']).head(1).reset_index()['Loss'][0]\n",
    "        trials.loc[i, 'Min val loss epoch'] = valid_loss.sort_values(by=['Loss']).head(1).reset_index()['Epoch'][0]\n",
    "        trials.loc[i, 'Max val accuracy'] = valid_acc.sort_values(by=['Accuracy'], ascending=False).head(1).reset_index()['Accuracy'][0]\n",
    "        trials.loc[i, 'Max val accuracy epoch'] = valid_acc.sort_values(by=['Accuracy'], ascending=False).head(1).reset_index()['Epoch'][0]\n",
    "        \n",
    "        best_trial = trials.sort_values(by=['Min val loss']).head(1)\n",
    "    \n",
    "    return best_trial, trials"
   ]
  },
  {
   "cell_type": "markdown",
   "id": "3f9e02b4",
   "metadata": {
    "id": "7fb70c8d"
   },
   "source": [
    "# 3 Running the program <a class=\"anchor\" id=\"run\"></a>\n",
    "\n",
    "We can now define our hyperparameter ranges and run hyperparameter optimisation program:"
   ]
  },
  {
   "cell_type": "code",
   "execution_count": 31,
   "id": "c43df7d0",
   "metadata": {},
   "outputs": [
    {
     "name": "stdout",
     "output_type": "stream",
     "text": [
      "Trialling model 1 of 300\n",
      "Trialling model 2 of 300\n",
      "Trialling model 3 of 300\n",
      "Trialling model 4 of 300\n",
      "Trialling model 5 of 300\n",
      "Trialling model 6 of 300\n",
      "Trialling model 7 of 300\n",
      "Trialling model 8 of 300\n",
      "Trialling model 9 of 300\n",
      "Trialling model 10 of 300\n",
      "Trialling model 11 of 300\n",
      "Trialling model 12 of 300\n",
      "Trialling model 13 of 300\n",
      "Trialling model 14 of 300\n",
      "Trialling model 15 of 300\n",
      "Trialling model 16 of 300\n",
      "Trialling model 17 of 300\n",
      "Trialling model 18 of 300\n",
      "Trialling model 19 of 300\n",
      "Trialling model 20 of 300\n",
      "Trialling model 21 of 300\n",
      "Trialling model 22 of 300\n",
      "Trialling model 23 of 300\n",
      "Trialling model 24 of 300\n",
      "Trialling model 25 of 300\n",
      "Trialling model 26 of 300\n",
      "Trialling model 27 of 300\n",
      "Trialling model 28 of 300\n",
      "Trialling model 29 of 300\n",
      "Trialling model 30 of 300\n",
      "Trialling model 31 of 300\n",
      "Trialling model 32 of 300\n",
      "Trialling model 33 of 300\n",
      "Trialling model 34 of 300\n",
      "Trialling model 35 of 300\n",
      "Trialling model 36 of 300\n",
      "Trialling model 37 of 300\n",
      "Trialling model 38 of 300\n",
      "Trialling model 39 of 300\n",
      "Trialling model 40 of 300\n",
      "Trialling model 41 of 300\n",
      "Trialling model 42 of 300\n",
      "Trialling model 43 of 300\n",
      "Trialling model 44 of 300\n",
      "Trialling model 45 of 300\n",
      "Trialling model 46 of 300\n",
      "Trialling model 47 of 300\n",
      "Trialling model 48 of 300\n",
      "Trialling model 49 of 300\n",
      "Trialling model 50 of 300\n",
      "Trialling model 51 of 300\n",
      "Trialling model 52 of 300\n",
      "Trialling model 53 of 300\n",
      "Trialling model 54 of 300\n",
      "Trialling model 55 of 300\n",
      "Trialling model 56 of 300\n",
      "Trialling model 57 of 300\n",
      "Trialling model 58 of 300\n",
      "Trialling model 59 of 300\n",
      "Trialling model 60 of 300\n",
      "Trialling model 61 of 300\n",
      "Trialling model 62 of 300\n",
      "Trialling model 63 of 300\n",
      "Trialling model 64 of 300\n",
      "Trialling model 65 of 300\n",
      "Trialling model 66 of 300\n",
      "Trialling model 67 of 300\n",
      "Trialling model 68 of 300\n",
      "Trialling model 69 of 300\n",
      "Trialling model 70 of 300\n",
      "Trialling model 71 of 300\n",
      "Trialling model 72 of 300\n",
      "Trialling model 73 of 300\n",
      "Trialling model 74 of 300\n",
      "Trialling model 75 of 300\n",
      "Trialling model 76 of 300\n",
      "Trialling model 77 of 300\n",
      "Trialling model 78 of 300\n",
      "Trialling model 79 of 300\n",
      "Trialling model 80 of 300\n",
      "Trialling model 81 of 300\n",
      "Trialling model 82 of 300\n",
      "Trialling model 83 of 300\n",
      "Trialling model 84 of 300\n",
      "Trialling model 85 of 300\n",
      "Trialling model 86 of 300\n",
      "Trialling model 87 of 300\n",
      "Trialling model 88 of 300\n",
      "Trialling model 89 of 300\n",
      "Trialling model 90 of 300\n",
      "Trialling model 91 of 300\n",
      "Trialling model 92 of 300\n",
      "Trialling model 93 of 300\n",
      "Trialling model 94 of 300\n",
      "Trialling model 95 of 300\n",
      "Trialling model 96 of 300\n",
      "Trialling model 97 of 300\n",
      "Trialling model 98 of 300\n",
      "Trialling model 99 of 300\n",
      "Trialling model 100 of 300\n",
      "Trialling model 101 of 300\n",
      "Trialling model 102 of 300\n",
      "Trialling model 103 of 300\n",
      "Trialling model 104 of 300\n",
      "Trialling model 105 of 300\n",
      "Trialling model 106 of 300\n",
      "Trialling model 107 of 300\n",
      "Trialling model 108 of 300\n",
      "Trialling model 109 of 300\n",
      "Trialling model 110 of 300\n",
      "Trialling model 111 of 300\n",
      "Trialling model 112 of 300\n",
      "Trialling model 113 of 300\n",
      "Trialling model 114 of 300\n",
      "Trialling model 115 of 300\n",
      "Trialling model 116 of 300\n",
      "Trialling model 117 of 300\n",
      "Trialling model 118 of 300\n",
      "Trialling model 119 of 300\n",
      "Trialling model 120 of 300\n",
      "Trialling model 121 of 300\n",
      "Trialling model 122 of 300\n",
      "Trialling model 123 of 300\n",
      "Trialling model 124 of 300\n",
      "Trialling model 125 of 300\n",
      "Trialling model 126 of 300\n",
      "Trialling model 127 of 300\n",
      "Trialling model 128 of 300\n",
      "Trialling model 129 of 300\n",
      "Trialling model 130 of 300\n",
      "Trialling model 131 of 300\n",
      "Trialling model 132 of 300\n",
      "Trialling model 133 of 300\n",
      "Trialling model 134 of 300\n",
      "Trialling model 135 of 300\n",
      "Trialling model 136 of 300\n",
      "Trialling model 137 of 300\n",
      "Trialling model 138 of 300\n",
      "Trialling model 139 of 300\n",
      "Trialling model 140 of 300\n",
      "Trialling model 141 of 300\n",
      "Trialling model 142 of 300\n",
      "Trialling model 143 of 300\n",
      "Trialling model 144 of 300\n",
      "Trialling model 145 of 300\n",
      "Trialling model 146 of 300\n",
      "Trialling model 147 of 300\n",
      "Trialling model 148 of 300\n",
      "Trialling model 149 of 300\n",
      "Trialling model 150 of 300\n",
      "Trialling model 151 of 300\n",
      "Trialling model 152 of 300\n",
      "Trialling model 153 of 300\n",
      "Trialling model 154 of 300\n",
      "Trialling model 155 of 300\n",
      "Trialling model 156 of 300\n",
      "Trialling model 157 of 300\n",
      "Trialling model 158 of 300\n",
      "Trialling model 159 of 300\n",
      "Trialling model 160 of 300\n",
      "Trialling model 161 of 300\n",
      "Trialling model 162 of 300\n",
      "Trialling model 163 of 300\n",
      "Trialling model 164 of 300\n",
      "Trialling model 165 of 300\n",
      "Trialling model 166 of 300\n",
      "Trialling model 167 of 300\n",
      "Trialling model 168 of 300\n",
      "Trialling model 169 of 300\n",
      "Trialling model 170 of 300\n",
      "Trialling model 171 of 300\n",
      "Trialling model 172 of 300\n",
      "Trialling model 173 of 300\n",
      "Trialling model 174 of 300\n",
      "Trialling model 175 of 300\n",
      "Trialling model 176 of 300\n",
      "Trialling model 177 of 300\n",
      "Trialling model 178 of 300\n",
      "Trialling model 179 of 300\n",
      "Trialling model 180 of 300\n",
      "Trialling model 181 of 300\n",
      "Trialling model 182 of 300\n",
      "Trialling model 183 of 300\n",
      "Trialling model 184 of 300\n",
      "Trialling model 185 of 300\n",
      "Trialling model 186 of 300\n",
      "Trialling model 187 of 300\n",
      "Trialling model 188 of 300\n",
      "Trialling model 189 of 300\n",
      "Trialling model 190 of 300\n",
      "Trialling model 191 of 300\n",
      "Trialling model 192 of 300\n",
      "Trialling model 193 of 300\n",
      "Trialling model 194 of 300\n",
      "Trialling model 195 of 300\n",
      "Trialling model 196 of 300\n",
      "Trialling model 197 of 300\n",
      "Trialling model 198 of 300\n",
      "Trialling model 199 of 300\n",
      "Trialling model 200 of 300\n",
      "Trialling model 201 of 300\n",
      "Trialling model 202 of 300\n",
      "Trialling model 203 of 300\n",
      "Trialling model 204 of 300\n",
      "Trialling model 205 of 300\n",
      "Trialling model 206 of 300\n",
      "Trialling model 207 of 300\n",
      "Trialling model 208 of 300\n",
      "Trialling model 209 of 300\n",
      "Trialling model 210 of 300\n",
      "Trialling model 211 of 300\n",
      "Trialling model 212 of 300\n",
      "Trialling model 213 of 300\n",
      "Trialling model 214 of 300\n",
      "Trialling model 215 of 300\n",
      "Trialling model 216 of 300\n",
      "Trialling model 217 of 300\n",
      "Trialling model 218 of 300\n",
      "Trialling model 219 of 300\n",
      "Trialling model 220 of 300\n",
      "Trialling model 221 of 300\n",
      "Trialling model 222 of 300\n",
      "Trialling model 223 of 300\n",
      "Trialling model 224 of 300\n",
      "Trialling model 225 of 300\n",
      "Trialling model 226 of 300\n",
      "Trialling model 227 of 300\n",
      "Trialling model 228 of 300\n",
      "Trialling model 229 of 300\n",
      "Trialling model 230 of 300\n",
      "Trialling model 231 of 300\n",
      "Trialling model 232 of 300\n",
      "Trialling model 233 of 300\n",
      "Trialling model 234 of 300\n",
      "Trialling model 235 of 300\n",
      "Trialling model 236 of 300\n",
      "Trialling model 237 of 300\n",
      "Trialling model 238 of 300\n",
      "Trialling model 239 of 300\n",
      "Trialling model 240 of 300\n",
      "Trialling model 241 of 300\n",
      "Trialling model 242 of 300\n",
      "Trialling model 243 of 300\n",
      "Trialling model 244 of 300\n",
      "Trialling model 245 of 300\n",
      "Trialling model 246 of 300\n",
      "Trialling model 247 of 300\n",
      "Trialling model 248 of 300\n",
      "Trialling model 249 of 300\n",
      "Trialling model 250 of 300\n",
      "Trialling model 251 of 300\n",
      "Trialling model 252 of 300\n",
      "Trialling model 253 of 300\n",
      "Trialling model 254 of 300\n",
      "Trialling model 255 of 300\n",
      "Trialling model 256 of 300\n",
      "Trialling model 257 of 300\n",
      "Trialling model 258 of 300\n",
      "Trialling model 259 of 300\n",
      "Trialling model 260 of 300\n",
      "Trialling model 261 of 300\n",
      "Trialling model 262 of 300\n",
      "Trialling model 263 of 300\n",
      "Trialling model 264 of 300\n",
      "Trialling model 265 of 300\n",
      "Trialling model 266 of 300\n",
      "Trialling model 267 of 300\n",
      "Trialling model 268 of 300\n",
      "Trialling model 269 of 300\n",
      "Trialling model 270 of 300\n",
      "Trialling model 271 of 300\n",
      "Trialling model 272 of 300\n",
      "Trialling model 273 of 300\n",
      "Trialling model 274 of 300\n",
      "Trialling model 275 of 300\n",
      "Trialling model 276 of 300\n",
      "Trialling model 277 of 300\n",
      "Trialling model 278 of 300\n",
      "Trialling model 279 of 300\n",
      "Trialling model 280 of 300\n",
      "Trialling model 281 of 300\n",
      "Trialling model 282 of 300\n",
      "Trialling model 283 of 300\n",
      "Trialling model 284 of 300\n",
      "Trialling model 285 of 300\n",
      "Trialling model 286 of 300\n",
      "Trialling model 287 of 300\n",
      "Trialling model 288 of 300\n",
      "Trialling model 289 of 300\n",
      "Trialling model 290 of 300\n",
      "Trialling model 291 of 300\n",
      "Trialling model 292 of 300\n",
      "Trialling model 293 of 300\n",
      "Trialling model 294 of 300\n",
      "Trialling model 295 of 300\n",
      "Trialling model 296 of 300\n",
      "Trialling model 297 of 300\n",
      "Trialling model 298 of 300\n",
      "Trialling model 299 of 300\n",
      "Trialling model 300 of 300\n",
      "Time taken: 7521.050108671188 seconds\n"
     ]
    }
   ],
   "source": [
    "hp_ranges = {'Activations': ['relu', 'tanh', 'sigmoid'], 'Layer sizes': [20, 1500], 'Dropout rate': [0, 0.7],\n",
    "            'Learning rate': [0.0005, 0.005], 'Momentum': [0, 1], 'Batch size': [5, 600]}\n",
    "\n",
    "start_time = time.time()\n",
    "\n",
    "best_trial, all_trials = QRSearch(n_trials=300, hp_ranges=hp_ranges, x_train=x_train, y_train=y_train, \n",
    "                                  x_valid=x_valid, y_valid=y_valid)\n",
    "\n",
    "end_time = time.time()\n",
    "\n",
    "time_taken = end_time - start_time\n",
    "\n",
    "print('Time taken:', time_taken, 'seconds')"
   ]
  },
  {
   "cell_type": "code",
   "execution_count": 32,
   "id": "54b5ba23",
   "metadata": {
    "executionInfo": {
     "elapsed": 363,
     "status": "ok",
     "timestamp": 1643764479805,
     "user": {
      "displayName": "Alexandra Stepanenko",
      "photoUrl": "https://lh3.googleusercontent.com/a/default-user=s64",
      "userId": "09067281291667623362"
     },
     "user_tz": 0
    },
    "id": "ZAga2pHI3vJd"
   },
   "outputs": [],
   "source": [
    "# Save results\n",
    "\n",
    "best_trial.to_csv('best_trial.csv')\n",
    "!cp best_trial.csv \"drive/My Drive/\"\n",
    "\n",
    "all_trials.to_csv('all_trials.csv')\n",
    "!cp all_trials.csv \"drive/My Drive/\""
   ]
  },
  {
   "cell_type": "markdown",
   "id": "6ce718a1",
   "metadata": {},
   "source": [
    "We can now see the model which performed best at trial stage, and which loss/accuracy it achieved:"
   ]
  },
  {
   "cell_type": "code",
   "execution_count": 33,
   "id": "c2542cd7",
   "metadata": {
    "colab": {
     "base_uri": "https://localhost:8080/"
    },
    "executionInfo": {
     "elapsed": 9,
     "status": "ok",
     "timestamp": 1643764479809,
     "user": {
      "displayName": "Alexandra Stepanenko",
      "photoUrl": "https://lh3.googleusercontent.com/a/default-user=s64",
      "userId": "09067281291667623362"
     },
     "user_tz": 0
    },
    "id": "ee2edd00",
    "outputId": "713a7c3d-e674-4fe7-8a11-af7fde9d6608"
   },
   "outputs": [
    {
     "name": "stdout",
     "output_type": "stream",
     "text": [
      "Structure : Ascending max\n",
      "Number of hidden layers : 2\n",
      "Activation : sigmoid\n",
      "Allow dropout layers? : True\n",
      "Allow momentum? : True\n",
      "L3 : False\n",
      "L4 : False\n",
      "L5 : False\n",
      "D1 : True\n",
      "D2 : False\n",
      "D3 : False\n",
      "D4 : False\n",
      "D5 : False\n",
      "L1N : 163\n",
      "L2N : 325\n",
      "L3N : 0\n",
      "L4N : 0\n",
      "L5N : 0\n",
      "D1R : 0.1725827321410179\n",
      "D2R : 0.0\n",
      "D3R : 0.0\n",
      "D4R : 0.0\n",
      "D5R : 0.0\n",
      "Learning rate : 0.0030597063601017003\n",
      "Momentum : 0.19803881645202637\n",
      "Batch size : 544\n",
      "Min val loss : 0.28139692544937134\n",
      "Min val loss epoch : 44.0\n",
      "Max val accuracy : 0.8985000252723694\n",
      "Max val accuracy epoch : 44.0\n"
     ]
    }
   ],
   "source": [
    "best_trial.reset_index(inplace=True, drop=True)\n",
    "\n",
    "for col in best_trial:\n",
    "    print(col, ':', best_trial[col][0])"
   ]
  },
  {
   "cell_type": "markdown",
   "id": "d476d74a",
   "metadata": {
    "id": "acbb1d50"
   },
   "source": [
    "# 4 Evaluating the best performing model using test data <a class=\"anchor\" id=\"test\"></a>\n",
    "\n",
    "We will now evaulate our best performing model using the test data."
   ]
  },
  {
   "cell_type": "code",
   "execution_count": 34,
   "id": "0d2b29ed",
   "metadata": {
    "colab": {
     "base_uri": "https://localhost:8080/"
    },
    "executionInfo": {
     "elapsed": 22693,
     "status": "ok",
     "timestamp": 1643764502497,
     "user": {
      "displayName": "Alexandra Stepanenko",
      "photoUrl": "https://lh3.googleusercontent.com/a/default-user=s64",
      "userId": "09067281291667623362"
     },
     "user_tz": 0
    },
    "id": "33ad95b6",
    "outputId": "ad36dc15-b3c2-458f-f45d-d3f1858d1417"
   },
   "outputs": [
    {
     "name": "stdout",
     "output_type": "stream",
     "text": [
      "Epoch 1/44\n",
      "111/111 [==============================] - 1s 3ms/step - loss: 0.8926 - accuracy: 0.6723\n",
      "Epoch 2/44\n",
      "111/111 [==============================] - 0s 3ms/step - loss: 0.5341 - accuracy: 0.8015\n",
      "Epoch 3/44\n",
      "111/111 [==============================] - 0s 3ms/step - loss: 0.4709 - accuracy: 0.8271\n",
      "Epoch 4/44\n",
      "111/111 [==============================] - 0s 3ms/step - loss: 0.4353 - accuracy: 0.8379\n",
      "Epoch 5/44\n",
      "111/111 [==============================] - 0s 3ms/step - loss: 0.4103 - accuracy: 0.8483\n",
      "Epoch 6/44\n",
      "111/111 [==============================] - 0s 3ms/step - loss: 0.3946 - accuracy: 0.8543\n",
      "Epoch 7/44\n",
      "111/111 [==============================] - 0s 3ms/step - loss: 0.3802 - accuracy: 0.8582\n",
      "Epoch 8/44\n",
      "111/111 [==============================] - 0s 3ms/step - loss: 0.3653 - accuracy: 0.8643\n",
      "Epoch 9/44\n",
      "111/111 [==============================] - 0s 3ms/step - loss: 0.3540 - accuracy: 0.8692\n",
      "Epoch 10/44\n",
      "111/111 [==============================] - 0s 3ms/step - loss: 0.3455 - accuracy: 0.8716\n",
      "Epoch 11/44\n",
      "111/111 [==============================] - 0s 4ms/step - loss: 0.3337 - accuracy: 0.8765\n",
      "Epoch 12/44\n",
      "111/111 [==============================] - 0s 3ms/step - loss: 0.3276 - accuracy: 0.8780\n",
      "Epoch 13/44\n",
      "111/111 [==============================] - 0s 3ms/step - loss: 0.3176 - accuracy: 0.8817\n",
      "Epoch 14/44\n",
      "111/111 [==============================] - 0s 3ms/step - loss: 0.3131 - accuracy: 0.8826\n",
      "Epoch 15/44\n",
      "111/111 [==============================] - 0s 3ms/step - loss: 0.3061 - accuracy: 0.8870\n",
      "Epoch 16/44\n",
      "111/111 [==============================] - 0s 3ms/step - loss: 0.2994 - accuracy: 0.8876\n",
      "Epoch 17/44\n",
      "111/111 [==============================] - 0s 3ms/step - loss: 0.2970 - accuracy: 0.8884\n",
      "Epoch 18/44\n",
      "111/111 [==============================] - 0s 3ms/step - loss: 0.2905 - accuracy: 0.8912\n",
      "Epoch 19/44\n",
      "111/111 [==============================] - 0s 3ms/step - loss: 0.2845 - accuracy: 0.8932\n",
      "Epoch 20/44\n",
      "111/111 [==============================] - 0s 3ms/step - loss: 0.2801 - accuracy: 0.8938\n",
      "Epoch 21/44\n",
      "111/111 [==============================] - 0s 3ms/step - loss: 0.2768 - accuracy: 0.8961\n",
      "Epoch 22/44\n",
      "111/111 [==============================] - 0s 3ms/step - loss: 0.2753 - accuracy: 0.8958\n",
      "Epoch 23/44\n",
      "111/111 [==============================] - 0s 3ms/step - loss: 0.2673 - accuracy: 0.8988\n",
      "Epoch 24/44\n",
      "111/111 [==============================] - 0s 3ms/step - loss: 0.2638 - accuracy: 0.9002\n",
      "Epoch 25/44\n",
      "111/111 [==============================] - 0s 3ms/step - loss: 0.2608 - accuracy: 0.9018\n",
      "Epoch 26/44\n",
      "111/111 [==============================] - 0s 3ms/step - loss: 0.2571 - accuracy: 0.9023\n",
      "Epoch 27/44\n",
      "111/111 [==============================] - 0s 3ms/step - loss: 0.2539 - accuracy: 0.9034\n",
      "Epoch 28/44\n",
      "111/111 [==============================] - 0s 3ms/step - loss: 0.2492 - accuracy: 0.9056\n",
      "Epoch 29/44\n",
      "111/111 [==============================] - 0s 3ms/step - loss: 0.2477 - accuracy: 0.9053\n",
      "Epoch 30/44\n",
      "111/111 [==============================] - 0s 3ms/step - loss: 0.2453 - accuracy: 0.9069\n",
      "Epoch 31/44\n",
      "111/111 [==============================] - 0s 3ms/step - loss: 0.2399 - accuracy: 0.9083\n",
      "Epoch 32/44\n",
      "111/111 [==============================] - 0s 3ms/step - loss: 0.2387 - accuracy: 0.9094\n",
      "Epoch 33/44\n",
      "111/111 [==============================] - 0s 3ms/step - loss: 0.2365 - accuracy: 0.9101\n",
      "Epoch 34/44\n",
      "111/111 [==============================] - 0s 3ms/step - loss: 0.2350 - accuracy: 0.9091\n",
      "Epoch 35/44\n",
      "111/111 [==============================] - 0s 3ms/step - loss: 0.2322 - accuracy: 0.9115\n",
      "Epoch 36/44\n",
      "111/111 [==============================] - 0s 3ms/step - loss: 0.2308 - accuracy: 0.9115\n",
      "Epoch 37/44\n",
      "111/111 [==============================] - 0s 3ms/step - loss: 0.2256 - accuracy: 0.9130\n",
      "Epoch 38/44\n",
      "111/111 [==============================] - 0s 3ms/step - loss: 0.2241 - accuracy: 0.9140\n",
      "Epoch 39/44\n",
      "111/111 [==============================] - 0s 3ms/step - loss: 0.2208 - accuracy: 0.9159\n",
      "Epoch 40/44\n",
      "111/111 [==============================] - 0s 3ms/step - loss: 0.2190 - accuracy: 0.9158\n",
      "Epoch 41/44\n",
      "111/111 [==============================] - 0s 3ms/step - loss: 0.2170 - accuracy: 0.9176\n",
      "Epoch 42/44\n",
      "111/111 [==============================] - 0s 3ms/step - loss: 0.2142 - accuracy: 0.9170\n",
      "Epoch 43/44\n",
      "111/111 [==============================] - 0s 3ms/step - loss: 0.2119 - accuracy: 0.9184\n",
      "Epoch 44/44\n",
      "111/111 [==============================] - 0s 3ms/step - loss: 0.2111 - accuracy: 0.9194\n",
      "313/313 [==============================] - 1s 2ms/step - loss: 0.3636 - accuracy: 0.8773\n",
      "The test loss was: 0.36361244320869446 \n",
      "The test accuracy was: 0.8773000240325928\n"
     ]
    }
   ],
   "source": [
    "modelBuilder(L1N=best_trial['L1N'][0], \n",
    "             D1=best_trial['D1'][0], D1R=best_trial['D1R'][0],\n",
    "             L2N=best_trial['L2N'][0], \n",
    "             D2=best_trial['D2'][0], D2R=best_trial['D2R'][0],\n",
    "             L3=best_trial['L3'][0], L3N=best_trial['L3N'][0], \n",
    "             D3=best_trial['D3'][0], D3R=best_trial['D3R'][0],\n",
    "             L4=best_trial['L4'][0], L4N=best_trial['L4N'][0], \n",
    "             D4=best_trial['D4'][0], D4R=best_trial['D4R'][0],\n",
    "             L5=best_trial['L5'][0], L5N=best_trial['L5N'][0], \n",
    "             D5=best_trial['D5'][0], D5R=best_trial['D5R'][0],\n",
    "             OLR=best_trial['Learning rate'][0], OM=best_trial['Momentum'][0], \n",
    "             AVN=best_trial['Activation'][0], BS=best_trial['Batch size'][0],\n",
    "             train_images=train_images, train_labels=train_labels, \n",
    "             test_images=test_images, test_labels=test_labels, test_epochs=int(best_trial['Max val accuracy epoch'][0]),\n",
    "             model_type='Test')"
   ]
  },
  {
   "cell_type": "markdown",
   "id": "5aa69d95",
   "metadata": {
    "id": "cf690c38"
   },
   "source": [
    "# 5 Conclusion and evaluation <a class=\"anchor\" id=\"conclusion\"></a>\n",
    "\n",
    "Using my hyperparameter optimisation program, the best model during trialing achieved a maximum validation accuracy of 0.899. In the test evaluation, the model achieved an accuracy of 0.877. \n",
    "\n",
    "Bergstra and Bengio [1] noted that random search was generally not as effective as a human expert using a combination of manual and grid search because a person learns from the results of previous experiments and is able to adapt their approach. Interestingly, I previously used the manual/grid approach to optimise a neural network on the same data set, and the maximum validation accuracy I achieved was also 0.899 - although it should be noted that once this program was built, this time I got to the same validation accuracy much quicker than through manual and grid search! \n",
    "\n",
    "There are now approaches such as Bayesian Optimisation, which use information from previous trials to attempt to identify which hyperparameter values may reduce the loss of a model, which have an advantage over random search methods.\n",
    "\n",
    "One of the elements I found difficult during this project was picking suitable ranges for hyperparameters when calling the function. On the one hand, it seems prudent to pick a wide range, in case your selection excludes the optimum for a hyperparameter. On the other hand, very large ranges may suffer from the grid search problem of missing the optimum in the gap between values. A potential improvement on the program I have written is: after a certain number of models have been trialed (for example, 100 models), for the program to restrict the hyperparameter ranges for the next set of models based on the hyperparameter values of the best performing models of the previous set. However, it is unclear how significant this reduction in range would be, and if there are any potential drawbacks to this method (for example, inadvertently excluding the optimum for a hyperparameter early on). "
   ]
  },
  {
   "cell_type": "markdown",
   "id": "0d42501c",
   "metadata": {
    "id": "e2f1e840"
   },
   "source": [
    "# 6 References <a class=\"anchor\" id=\"references\"></a>\n",
    "\n",
    "[1] Bergstra, J., & Bengio, Y. (2012). Random Search for Hyper-Parameter Optimization. J. Mach. Learn. Res., 13, 281-305.  \n",
    "[2] https://scipy.github.io/devdocs/reference/generated/scipy.stats.qmc.Sobol.html#re15be05a07a0-3. \n",
    "\n",
    "Other resources used:\n",
    "\n",
    "* T. Blackwell, *Artificial Intelligence Lectures and Labs*, London: Goldsmiths,University of London, 2021.\n",
    "* F. Chollet, *Deep Learning with Python*, Shelter Island: Manning, 2018.\n",
    "* M. Nielsen, *Neural Networks and Deep Learning* [Online]. Avaliable: http://neuralnetworksanddeeplearning.com/\n",
    "* Zalando Research, *Fashion-MNIST* [Online]. Avaliable: https://github.com/zalandoresearch/fashion-mnist"
   ]
  }
 ],
 "metadata": {
  "accelerator": "GPU",
  "colab": {
   "collapsed_sections": [],
   "name": "Coursework 2 - Quasi-Random Search for Hyperparameter Optimisation.ipynb",
   "provenance": []
  },
  "kernelspec": {
   "display_name": "Python 3 (ipykernel)",
   "language": "python",
   "name": "python3"
  },
  "language_info": {
   "codemirror_mode": {
    "name": "ipython",
    "version": 3
   },
   "file_extension": ".py",
   "mimetype": "text/x-python",
   "name": "python",
   "nbconvert_exporter": "python",
   "pygments_lexer": "ipython3",
   "version": "3.8.8"
  }
 },
 "nbformat": 4,
 "nbformat_minor": 5
}
